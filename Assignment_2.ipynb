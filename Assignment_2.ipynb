{
  "nbformat": 4,
  "nbformat_minor": 0,
  "metadata": {
    "colab": {
      "provenance": [],
      "collapsed_sections": []
    },
    "kernelspec": {
      "name": "python3",
      "display_name": "Python 3"
    },
    "language_info": {
      "name": "python"
    }
  },
  "cells": [
    {
      "cell_type": "code",
      "execution_count": null,
      "metadata": {
        "colab": {
          "base_uri": "https://localhost:8080/"
        },
        "id": "kh5alGYKsN0W",
        "outputId": "a012f318-597a-430b-a3ff-99d7ee444afc"
      },
      "outputs": [
        {
          "output_type": "stream",
          "name": "stdout",
          "text": [
            "Enter the number  -9\n",
            "Number is Negative \n"
          ]
        }
      ],
      "source": [
        "#(1) Write a Python program to check if a number is positive, negative or zero\n",
        "\n",
        "Number = int(input(\"Enter the number  \"))\n",
        "if Number>0:\n",
        "  print(\"Number is positive number  \")\n",
        "elif Number==0:\n",
        "  print(\"Number is zero \")\n",
        "else: \n",
        "  print(\"Number is Negative \")"
      ]
    },
    {
      "cell_type": "code",
      "source": [
        "#(2) Write a Python program to get the Factorial number of given number.\n",
        "\n",
        "num = int(input(\"Enter your number:- \"))\n",
        "factorial = 1\n",
        "if num<0:\n",
        "  print(\"Dose not Exit\")\n",
        "elif num == 0:\n",
        "  print(\"The factorial  0 is 1\")\n",
        "else:\n",
        "\n",
        "  for i in range(1,num+1):\n",
        "    factorial = factorial*i\n",
        "  print(\"factorial of \", num ,\"is\",factorial)\n"
      ],
      "metadata": {
        "colab": {
          "base_uri": "https://localhost:8080/"
        },
        "id": "5NV3rU37uNbJ",
        "outputId": "c5b7fee7-5822-4498-b055-371fe521833f"
      },
      "execution_count": null,
      "outputs": [
        {
          "output_type": "stream",
          "name": "stdout",
          "text": [
            "Enter your number:- 5\n",
            "factorial of  5 is 120\n"
          ]
        }
      ]
    },
    {
      "cell_type": "code",
      "source": [
        "# 3).Write a Python program to get the Fibonacci series of given range.\n",
        "#Ans.\n",
        "def fibonacci(a):\n",
        "  \n",
        "  if a<0:\n",
        "    print(\"Inncorrect input\")\n",
        "  elif a==0:\n",
        "    return 0\n",
        "  elif a==1 or a==2:\n",
        "    return 1\n",
        "  else:\n",
        "    return fibonacci(a-1) +fibonacci(a-2)\n",
        "\n",
        "fibonacci(9)"
      ],
      "metadata": {
        "colab": {
          "base_uri": "https://localhost:8080/"
        },
        "id": "V9ifdt57xukt",
        "outputId": "0ca774bb-4c26-41b6-87a6-b8bfce702f4c"
      },
      "execution_count": null,
      "outputs": [
        {
          "output_type": "execute_result",
          "data": {
            "text/plain": [
              "34"
            ]
          },
          "metadata": {},
          "execution_count": 8
        }
      ]
    },
    {
      "cell_type": "code",
      "source": [
        "#  4).How memory is managed in Python?\n",
        "\"\"\"Ans.Memory management in Python involves a private heap containing all Python objects and data structures. \n",
        "       The management of this private heap is ensured internally by the Python memory manager.\"\"\""
      ],
      "metadata": {
        "id": "FM_CWu0uw79u"
      },
      "execution_count": null,
      "outputs": []
    },
    {
      "cell_type": "code",
      "source": [
        "#  5).What is the purpose continue statement in python?\n",
        "\"\"\"Ans.The continue statement in Python returns the control to the beginning of the while loop. \n",
        "       The continue statement rejects all the remaining statements in the current iteration of the loop and moves the control back to the top of the loop."
      ],
      "metadata": {
        "id": "LrV5nVJGxNs7"
      },
      "execution_count": null,
      "outputs": []
    },
    {
      "cell_type": "code",
      "source": [
        "#6) Write python program that swap two number with temp variable and without temp variable.\n",
        "#Using temp variable\n",
        "x = input(\"Enter number :\")\n",
        "y = input(\"Enter number :\")\n",
        "\n",
        "temp = x\n",
        "x = y\n",
        "y = temp\n",
        "print(\"X\",x)\n",
        "print(\"Y\",y)"
      ],
      "metadata": {
        "id": "elYderKEz7Ya",
        "colab": {
          "base_uri": "https://localhost:8080/"
        },
        "outputId": "d77f6c93-b3fc-45b5-ad36-501ea9e663ab"
      },
      "execution_count": null,
      "outputs": [
        {
          "output_type": "stream",
          "name": "stdout",
          "text": [
            "Enter number :15\n",
            "Enter number :20\n",
            "X 20\n",
            "Y 15\n"
          ]
        }
      ]
    },
    {
      "cell_type": "code",
      "source": [
        "#Without temp variable\n",
        "x = input(\"Enter number x : \")\n",
        "y = input(\"Enter number y : \")\n",
        "x,y=y,x\n",
        "print(\"X\",x)\n",
        "print(\"Y\",y)"
      ],
      "metadata": {
        "id": "GI29jmaAtoiT",
        "colab": {
          "base_uri": "https://localhost:8080/"
        },
        "outputId": "a55a065a-29d1-46ec-a114-8850b9bd7297"
      },
      "execution_count": null,
      "outputs": [
        {
          "output_type": "stream",
          "name": "stdout",
          "text": [
            "Enter number x : 25\n",
            "Enter number y : 60\n",
            "X 60\n",
            "Y 25\n"
          ]
        }
      ]
    },
    {
      "cell_type": "code",
      "source": [
        "\"\"\"7).Write a Python program to find whether a given number is even or odd,\n",
        "      print out an appropriate message to the user.\"\"\"\n",
        "a = int(input(\"Enter the number : \"))\n",
        "\n",
        "if a % 2==0:\n",
        "  print(\"Is even number\")\n",
        "else:\n",
        "  print(\"is odd number \") "
      ],
      "metadata": {
        "colab": {
          "base_uri": "https://localhost:8080/"
        },
        "id": "Jt1gS3QHXzmh",
        "outputId": "da6ebd55-3403-4374-e991-b5de4a011dce"
      },
      "execution_count": null,
      "outputs": [
        {
          "output_type": "stream",
          "name": "stdout",
          "text": [
            "Enter the number : 6\n",
            "Is even number\n"
          ]
        }
      ]
    },
    {
      "cell_type": "code",
      "source": [
        "#8).Write a Python program to test whether a passed letter is a vowel or not.\n",
        "\n",
        "B = input(\"Enter the character : \")\n",
        "\n",
        "if B.lower() in ('a','e','i','o','u'):\n",
        "  print(\"Is Vowel\")\n",
        "elif B.upper() in ('A','E','I','O','U'):\n",
        "  print(\"IS Vowel\")\n",
        "else:\n",
        "  print(\"Is not Vowel\")"
      ],
      "metadata": {
        "colab": {
          "base_uri": "https://localhost:8080/"
        },
        "id": "sYzMDEnmajya",
        "outputId": "83b05cf8-0ac3-4859-c7a1-4f1e6d2f5eb2"
      },
      "execution_count": null,
      "outputs": [
        {
          "output_type": "stream",
          "name": "stdout",
          "text": [
            "Enter the character : A\n",
            "Is Vowel\n"
          ]
        }
      ]
    },
    {
      "cell_type": "code",
      "source": [
        "\"\"\"9).Write a Python program to sum of three given integers. However, \n",
        "      if two values are equal sum will be zero.\"\"\"\n",
        "a = int(input(\"Enter 1 number : \"))\n",
        "b = int(input(\"Enter 2 number : \"))\n",
        "c = int(input(\"Enter 3 number : \"))\n",
        "\n",
        "if a==b or b==c or c==a:\n",
        "     sum = 0\n",
        "else:\n",
        "     sum = a+b+c\n",
        "print(sum)"
      ],
      "metadata": {
        "colab": {
          "base_uri": "https://localhost:8080/"
        },
        "id": "IJHMx9Kxdc_y",
        "outputId": "690449ea-10c4-4dad-a4b6-9431caa88d98"
      },
      "execution_count": null,
      "outputs": [
        {
          "output_type": "stream",
          "name": "stdout",
          "text": [
            "Enter 1 number : 5\n",
            "Enter 2 number : 5\n",
            "Enter 3 number : 10\n",
            "0\n"
          ]
        }
      ]
    },
    {
      "cell_type": "code",
      "source": [
        "\"\"\"10).Write a Python program that will return true if the two given integer values are equal or their sum or difference is 5.\"\"\"\n",
        "x = int(input(\"Enter the number : \"))\n",
        "y = int(input(\"Enter the number : \"))\n",
        "c = x,y \n",
        "#status = True\n",
        "#While status:\n",
        "if x == y or (x-y)==5 or (x+y)==5:\n",
        "    print(True)\n",
        "else :\n",
        "    print(False)"
      ],
      "metadata": {
        "colab": {
          "base_uri": "https://localhost:8080/"
        },
        "id": "Sy40aXIqf5pk",
        "outputId": "6af33991-54f4-4ec7-c607-0be0ffb557f2"
      },
      "execution_count": null,
      "outputs": [
        {
          "output_type": "stream",
          "name": "stdout",
          "text": [
            "Enter the number : 23\n",
            "Enter the number : 38\n",
            "False\n"
          ]
        }
      ]
    },
    {
      "cell_type": "code",
      "source": [
        "\"\"\"11).Write a python program to sum of the first n positive integers.\"\"\"\n",
        "n = int(input(\"Enter the number\"))\n",
        "sum = (n*(n+1))/2\n",
        "print(sum)"
      ],
      "metadata": {
        "colab": {
          "base_uri": "https://localhost:8080/"
        },
        "id": "5-077NqhrJrn",
        "outputId": "09442a2b-4e1d-44af-d0db-1efff9affbc0"
      },
      "execution_count": null,
      "outputs": [
        {
          "output_type": "stream",
          "name": "stdout",
          "text": [
            "Enter the number5\n",
            "15.0\n"
          ]
        }
      ]
    },
    {
      "cell_type": "code",
      "source": [
        "\"\"\"12).Write a Python program to calculate the length of a string.\"\"\"\n",
        "str = input(\"Enter your fullname : \")\n",
        "\n",
        "a = len(str)\n",
        "print(a)"
      ],
      "metadata": {
        "colab": {
          "base_uri": "https://localhost:8080/"
        },
        "id": "sENqddzsucBy",
        "outputId": "0c3fc44b-c0e9-4c6f-b3c7-abd9ad789013"
      },
      "execution_count": null,
      "outputs": [
        {
          "output_type": "stream",
          "name": "stdout",
          "text": [
            "Enter your fullname : karankapadiya\n",
            "13\n"
          ]
        }
      ]
    },
    {
      "cell_type": "code",
      "source": [
        "\"\"\"13).Write a Python program to count the number of characters (character frequency) in a string\"\"\"\n",
        "string = input(\"Enter any string :\")\n",
        "a = input(\"Enter characters to chack frequency :\")\n",
        "\n",
        "count = 0 \n",
        "for i in string:\n",
        "  if i==a:\n",
        "   count+=1\n",
        "print(a)\n",
        "print(count) "
      ],
      "metadata": {
        "colab": {
          "base_uri": "https://localhost:8080/"
        },
        "id": "iB8QWHRYvqcm",
        "outputId": "0bfbc3be-94f1-4c9b-9a28-a160d4df72d0"
      },
      "execution_count": null,
      "outputs": [
        {
          "output_type": "stream",
          "name": "stdout",
          "text": [
            "Enter any string :karankumar\n",
            "Enter characters to chack frequency :r\n",
            "r\n",
            "2\n"
          ]
        }
      ]
    },
    {
      "cell_type": "code",
      "source": [
        "\"\"\"14).What are negative indexes and why are they used?\n",
        "  Ans. “negative indexing from the end”, that is, negative indexing. This means the last value of a sequence has an index of -1, the second last -2, and so on. \n",
        "       You can use negative indexing as your advantage when you want to pick values from the end (right side) of an iterable\"\"\""
      ],
      "metadata": {
        "id": "L0-fBIiTxgsG"
      },
      "execution_count": null,
      "outputs": []
    },
    {
      "cell_type": "code",
      "source": [
        "\"\"\"15).Write a Python program to count occurrences of a substring in a string.\"\"\"\n",
        "a = input(\"Enter string   : \")\n",
        "b = input(\"Enter string 2 : \")\n",
        "\n",
        "def countoccurrences(a,b):\n",
        "\n",
        " count=0\n",
        " start=0\n",
        " while start<len(a):\n",
        "   position=a.find(b,start)\n",
        "   if position!=-1:\n",
        "     start=position+1\n",
        "     count+=1\n",
        "\n",
        "   else:\n",
        "      break\n",
        " return count\n",
        "print(\"The nymber of occurrences:\",countoccurrences(a,b)) \n"
      ],
      "metadata": {
        "id": "u75iAHF50bdU",
        "colab": {
          "base_uri": "https://localhost:8080/"
        },
        "outputId": "34d89bd5-8f48-4ddd-9e8d-e1dcca59b75a"
      },
      "execution_count": null,
      "outputs": [
        {
          "output_type": "stream",
          "name": "stdout",
          "text": [
            "Enter string   : hello karan. how are you karan\n",
            "Enter string 2 : karan\n",
            "The nymber of occurrences: 2\n"
          ]
        }
      ]
    },
    {
      "cell_type": "code",
      "source": [
        "#16).Write a Python program to count the occurrences of each word in a given sentence\n",
        "str = input(\"Enter string : \")\n",
        "str=str.split()\n",
        "i=0\n",
        "count=0\n",
        "while i<len(str):\n",
        "  count=0\n",
        "  for j in str:\n",
        "    if str[i]==j:\n",
        "      count=count+1\n",
        "  print(str[i],\"Present\",count,\"Time\")\n",
        "\n",
        "  i=i+1\n"
      ],
      "metadata": {
        "id": "yl9dkRdhXhor",
        "colab": {
          "base_uri": "https://localhost:8080/"
        },
        "outputId": "5b56c8c9-0e8a-4f11-e0a8-104429adc6f3"
      },
      "execution_count": null,
      "outputs": [
        {
          "output_type": "stream",
          "name": "stdout",
          "text": [
            "Enter string : hello all are you how are you all are you \n",
            "hello Present 1 Time\n",
            "all Present 2 Time\n",
            "are Present 3 Time\n",
            "you Present 3 Time\n",
            "how Present 1 Time\n",
            "are Present 3 Time\n",
            "you Present 3 Time\n",
            "all Present 2 Time\n",
            "are Present 3 Time\n",
            "you Present 3 Time\n"
          ]
        }
      ]
    },
    {
      "cell_type": "code",
      "source": [
        "#17).Write a Python program to get a single string from two given strings, \n",
        "#    separated by a space and swap the first two characters of each string.\n",
        "\n",
        "st1 = input(\"Enter string : \")\n",
        "st2 = input(\"Enter string : \")\n",
        "a = ''\n",
        "i = 0\n",
        "j = 0\n",
        "while i<len(st1) or i<len(st2):\n",
        "  if i<len(st1):\n",
        "    a=a + st1[i]\n",
        "    i+=1\n",
        "  if j<len(st2):\n",
        "    a = a +st2[j]\n",
        "    j+=1\n",
        "print(\"\",a)"
      ],
      "metadata": {
        "colab": {
          "base_uri": "https://localhost:8080/"
        },
        "id": "H8X4zk4ytl3c",
        "outputId": "b93fa103-d955-4bf4-93b0-88792bccb464"
      },
      "execution_count": null,
      "outputs": [
        {
          "output_type": "stream",
          "name": "stdout",
          "text": [
            "Enter string : abcd\n",
            "Enter string : efgh\n",
            " aebfcgdh\n"
          ]
        }
      ]
    },
    {
      "cell_type": "code",
      "source": [
        "#18).Write a Python program to add 'ing' at the end of a given string (length should be at least 3). If the given string already ends with 'ing' then add 'ly' instead \n",
        "#    if the string length of the given string is less than 3, leave it unchanged.\n",
        "\n",
        "st = input(\"Enter string : \")\n",
        "\n",
        "if len(st)>2:\n",
        "  if st.endswith('ing'):\n",
        "    st+='ly'\n",
        "  else:\n",
        "    st+='ing'\n",
        "print(st)"
      ],
      "metadata": {
        "colab": {
          "base_uri": "https://localhost:8080/"
        },
        "id": "D952LCjBzfsb",
        "outputId": "ab2dc7a6-53e9-4d24-c102-59d7b92d3420"
      },
      "execution_count": null,
      "outputs": [
        {
          "output_type": "stream",
          "name": "stdout",
          "text": [
            "Enter string : cutting\n",
            "cuttingly\n"
          ]
        }
      ]
    },
    {
      "cell_type": "code",
      "source": [
        "#19). Write a Python program to find the first appearance of the substring 'not' and 'poor' from a given string,\n",
        "#     if 'not' follows the 'poor', replace the whole 'not'...'poor' substring with 'good'. Return the resulting string.\n",
        "\n",
        "apperrance = input(\"Enter your string : \")\n",
        "\n",
        "po_not = apperrance.find(\"not\")\n",
        "po_poor = apperrance.find(\"poor\")\n",
        "\n",
        "if po_not<po_poor:\n",
        "  print(apperrance[:po_not]+\"good\")\n"
      ],
      "metadata": {
        "colab": {
          "base_uri": "https://localhost:8080/"
        },
        "id": "0HYCKCkz3w8A",
        "outputId": "ef9902ca-91e8-4bc3-b18d-a6bb46828fa5"
      },
      "execution_count": null,
      "outputs": [
        {
          "output_type": "stream",
          "name": "stdout",
          "text": [
            "Enter your string : hello is not poor\n",
            "hello is good\n"
          ]
        }
      ]
    },
    {
      "cell_type": "code",
      "source": [
        "#20.Write a Python function that takes a list of words and returns the length of the longest one.\n",
        "length = input(\"Enter line of string :\")\n",
        "n=length.split()\n",
        "lagest = len(n[0])\n",
        "for i in n:\n",
        "  if len(i)>lagest:\n",
        "    lagest=len(i)\n",
        "\n",
        "print(\"lagest string length\",lagest)\n"
      ],
      "metadata": {
        "colab": {
          "base_uri": "https://localhost:8080/"
        },
        "id": "6b9a7fOi-b7J",
        "outputId": "1e22e899-1040-4f21-818e-4541b989fad6"
      },
      "execution_count": null,
      "outputs": [
        {
          "output_type": "stream",
          "name": "stdout",
          "text": [
            "Enter line of string :hello what is you fullname\n",
            "lagest string length 8\n"
          ]
        }
      ]
    },
    {
      "cell_type": "code",
      "source": [
        "#21).Write a Python function to reverses a string if its length is a multiple of 4.\n",
        "#str = (input(\"Enter string : \"))\n",
        "a = input(\"Enter string  : \")\n",
        "if(len(a)%4==0):\n",
        "  print(a[::-1])\n",
        "else:\n",
        "  print(\"Cant\")\n"
      ],
      "metadata": {
        "colab": {
          "base_uri": "https://localhost:8080/"
        },
        "id": "9LIQnzyrCsW2",
        "outputId": "367197e2-5ecd-4a82-fc4e-577c1e23d40f"
      },
      "execution_count": null,
      "outputs": [
        {
          "output_type": "stream",
          "name": "stdout",
          "text": [
            "Enter string  : kapadiya\n",
            "ayidapak\n"
          ]
        }
      ]
    },
    {
      "cell_type": "code",
      "source": [
        "#22).Write a Python program to get a string made of the first 2 and the last 2 chars from a given a string. \n",
        "#    If the string length is less than 2, return instead of the empty string.\n",
        "\n",
        "inputString = \"Hello World\"\n",
        " \n",
        "count = 0\n",
        " \n",
        "# Loop through the string\n",
        "for i in inputString:\n",
        "      count = count + 1\n",
        "newString = inputString[ 0:2 ] + inputString [count - 2: count ]\n",
        " \n",
        "# Printing the new String\n",
        "print(\"Input string = \" + inputString)\n",
        "print(\"New String = \"+ newString)\n"
      ],
      "metadata": {
        "id": "8rx3gKtyHobV",
        "colab": {
          "base_uri": "https://localhost:8080/"
        },
        "outputId": "e0de9f2c-d038-4ff4-9dac-2719b00988d6"
      },
      "execution_count": null,
      "outputs": [
        {
          "output_type": "stream",
          "name": "stdout",
          "text": [
            "Input string = Hello World\n",
            "New String = Held\n"
          ]
        }
      ]
    },
    {
      "cell_type": "code",
      "source": [
        "#23).Write a Python function to insert a string in the middle of a string.\n",
        "def strins():\n",
        "  a=input(\"Plese enter a string : \")\n",
        "  l=len(a)\n",
        "  l1=(l//2)\n",
        "  for i in range(l):\n",
        "   if i==l1:\n",
        "      b=input(\"Please enter another string to insert in the middle : \")\n",
        "      c=a[:l1] +b[:] + a[l1:]\n",
        "  print(c)    \n",
        "strins()"
      ],
      "metadata": {
        "colab": {
          "base_uri": "https://localhost:8080/"
        },
        "id": "CNp27FEtSjly",
        "outputId": "48fe7fb7-5113-4ec2-fbd5-0c29bca7a7fe"
      },
      "execution_count": null,
      "outputs": [
        {
          "output_type": "stream",
          "name": "stdout",
          "text": [
            "Plese enter a string : hello\n",
            "Please enter another string to insert in the middle : hi\n",
            "hehillo\n"
          ]
        }
      ]
    }
  ]
}