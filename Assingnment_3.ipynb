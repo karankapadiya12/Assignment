{
  "nbformat": 4,
  "nbformat_minor": 0,
  "metadata": {
    "colab": {
      "provenance": [],
      "collapsed_sections": []
    },
    "kernelspec": {
      "name": "python3",
      "display_name": "Python 3"
    },
    "language_info": {
      "name": "python"
    }
  },
  "cells": [
    {
      "cell_type": "code",
      "execution_count": null,
      "metadata": {
        "id": "elw-Ex-qVyyb"
      },
      "outputs": [],
      "source": [
        "#1).   What is List? How will you reverse a list?\n",
        "#Ans.  Lists are used to store multiple items in a single variable.\n",
        "#      Using the reversed() method and reverse() method , we can reverse the contents of the list object in place i.e., \n",
        "#      we don't need to create a new list instead we just copy the existing elements to the original list in reverse order. \n",
        "#      This method directly modifies the original list."
      ]
    },
    {
      "cell_type": "code",
      "source": [
        "#2). How will you remove last object from a list?\n",
        "#    Suppose list1 is [2, 33, 222, 14, and 25], what is list1 [-1]?\n",
        "#Ans.Is remove last object from a list using pop() method\n",
        "a = [2,33,222,14,25]\n",
        "a.pop()\n",
        "a = a[-1]\n",
        "print(a)"
      ],
      "metadata": {
        "colab": {
          "base_uri": "https://localhost:8080/"
        },
        "id": "fjhPL549YRi8",
        "outputId": "01f83b5a-29ec-43a3-928b-49701a202762"
      },
      "execution_count": null,
      "outputs": [
        {
          "output_type": "stream",
          "name": "stdout",
          "text": [
            "14\n"
          ]
        }
      ]
    },
    {
      "cell_type": "code",
      "source": [
        "#3).  Differentiate between append () and extend () methods?\n",
        "#Ans. \n",
        "    #append()    The append() method appends an element to the end of the list.\n",
        "fruits = [\"apple\", \"banana\", \"cherry\"]\n",
        "fruits.append(\"orange\")\n",
        "print(\"Appebd Eg.\",fruits)\n",
        "\n",
        "    #extend()    The extend() method adds the specified list elements (or any iterable) to the end of the current list.\n",
        "fruits = ['apple', 'banana', 'cherry']  \n",
        "cars = ['Ford', 'BMW', 'Volvo']\n",
        "fruits.extend(cars)\n",
        "print(\"Extend Eg.\",fruits)"
      ],
      "metadata": {
        "colab": {
          "base_uri": "https://localhost:8080/"
        },
        "id": "wgZM8XgaZDBz",
        "outputId": "d140d1c1-4d3a-4200-b28a-ab549b5bb684"
      },
      "execution_count": null,
      "outputs": [
        {
          "output_type": "stream",
          "name": "stdout",
          "text": [
            "Appebd Eg. ['apple', 'banana', 'cherry', 'orange']\n",
            "Extend Eg. ['apple', 'banana', 'cherry', 'Ford', 'BMW', 'Volvo']\n"
          ]
        }
      ]
    },
    {
      "cell_type": "code",
      "source": [
        "#4).Write a Python function to get the largest number, smallest num and sum of all from a list.\n",
        "\n",
        "mylist = [10,50,40,32,60]\n",
        "print(\"My largest number in a list is : \", max(mylist))\n",
        "print(\"My samllest number in a list is : \",min(mylist))\n",
        "print(\"Mylist element totel of: \",sum(mylist))\n"
      ],
      "metadata": {
        "colab": {
          "base_uri": "https://localhost:8080/"
        },
        "id": "dl0n2DVdbrft",
        "outputId": "c15143a1-37ba-469e-e185-e5ba2c2c0964"
      },
      "execution_count": null,
      "outputs": [
        {
          "output_type": "stream",
          "name": "stdout",
          "text": [
            "My largest number in a list is :  60\n",
            "My samllest number in a list is :  10\n",
            "Mylist element totel of:  192\n"
          ]
        }
      ]
    },
    {
      "cell_type": "code",
      "source": [
        "#4).How will you compare two lists?"
      ],
      "metadata": {
        "id": "-Fz8hb1sejKC"
      },
      "execution_count": null,
      "outputs": []
    },
    {
      "cell_type": "code",
      "source": [
        "#5).Write a Python program to count the number of strings where the string length is 2 or more and \n",
        "#   the first and last character are same from a given list of strings.\n",
        "\n",
        "l = ['aba','101','cbc','abc','abc','aba']\n",
        "count=0\n",
        "for i in l:\n",
        "  l1=len(i)\n",
        "  if l1>1 and i[0]==i[-1]:\n",
        "   count+=1\n",
        "print(count)"
      ],
      "metadata": {
        "colab": {
          "base_uri": "https://localhost:8080/"
        },
        "id": "CpR_UrL7iVqQ",
        "outputId": "02e6e086-2828-4780-a73e-923ecf3b911e"
      },
      "execution_count": null,
      "outputs": [
        {
          "output_type": "stream",
          "name": "stdout",
          "text": [
            "4\n"
          ]
        }
      ]
    },
    {
      "cell_type": "code",
      "source": [
        "#6).Write a Python program to remove duplicates from a list.\n",
        "data=[10,20,20,10,60,40,405,45,20,15,55]\n",
        "noduplicat = []\n",
        "def remove_duplicates(duplicat):\n",
        "  for element in duplicat:\n",
        "    if element not in noduplicat:\n",
        "      noduplicat.append(element)\n",
        "  return noduplicat \n",
        "print(remove_duplicates(data))"
      ],
      "metadata": {
        "colab": {
          "base_uri": "https://localhost:8080/"
        },
        "id": "1v7bPgmojpwD",
        "outputId": "07569aba-08ff-484c-b6fe-8a75751ec725"
      },
      "execution_count": null,
      "outputs": [
        {
          "output_type": "stream",
          "name": "stdout",
          "text": [
            "[10, 20, 60, 40, 405, 45, 15, 55]\n"
          ]
        }
      ]
    },
    {
      "cell_type": "code",
      "source": [
        "#5).Write a Python program to check a list is empty or not.\n",
        "list = []\n",
        "if not list:\n",
        "  print(\"list is empty\")\n",
        "else:\n",
        "  print(\"list is not empty\")\n"
      ],
      "metadata": {
        "colab": {
          "base_uri": "https://localhost:8080/"
        },
        "id": "hvsOo6d9nY7B",
        "outputId": "6348084e-cb95-4940-8f76-fc21b76863fa"
      },
      "execution_count": null,
      "outputs": [
        {
          "output_type": "stream",
          "name": "stdout",
          "text": [
            "list is empty\n"
          ]
        }
      ]
    },
    {
      "cell_type": "code",
      "source": [
        "#6).Write a Python function that takes two lists and returns true if they have at least one common member.\n",
        "list1 = [1,2,3,4,5,6]\n",
        "list2 = [1,6,5,4,7,8,9,10]\n",
        "for x in list1:\n",
        "  for y in list2:\n",
        "    if(x==y):\n",
        "       print(True)\n",
        "     "
      ],
      "metadata": {
        "colab": {
          "base_uri": "https://localhost:8080/"
        },
        "id": "pZi1Hgquou9w",
        "outputId": "92681cd6-6489-4f18-d3aa-9b8dbc33d346"
      },
      "execution_count": null,
      "outputs": [
        {
          "output_type": "stream",
          "name": "stdout",
          "text": [
            "True\n",
            "True\n",
            "True\n",
            "True\n"
          ]
        }
      ]
    },
    {
      "cell_type": "code",
      "source": [
        "#7).Write a Python program to generate and print a list of first and last 5 elements \n",
        "#   where the values are square of numbers between 1 and 30.\n",
        "\n",
        "list = []\n",
        "for i in range(1,31):\n",
        "  list.append(i**2)\n",
        "print(list[:5])\n",
        "print(list[-5:])\n"
      ],
      "metadata": {
        "colab": {
          "base_uri": "https://localhost:8080/"
        },
        "id": "KpNnakwqp33U",
        "outputId": "e8fa6f55-a759-4ca0-fb25-86919ccac791"
      },
      "execution_count": null,
      "outputs": [
        {
          "output_type": "stream",
          "name": "stdout",
          "text": [
            "[1, 4, 9, 16, 25]\n",
            "[676, 729, 784, 841, 900]\n"
          ]
        }
      ]
    },
    {
      "cell_type": "code",
      "source": [
        "#8).Write a Python function that takes a list and returns a new list with unique elements of the first list.\n",
        "list = [10,20,30,10,20,60,50,50,40,20,30,10,10,10]\n",
        "unique_list = []\n",
        "for i in list:\n",
        "  if i not in unique_list:\n",
        "    unique_list.append(i)\n",
        "print(\"Unique list : \",unique_list)\n"
      ],
      "metadata": {
        "colab": {
          "base_uri": "https://localhost:8080/"
        },
        "id": "YJpQYcMBsgSv",
        "outputId": "79e873c8-9c62-4758-8bdf-49377da6af34"
      },
      "execution_count": null,
      "outputs": [
        {
          "output_type": "stream",
          "name": "stdout",
          "text": [
            "Unique list :  [10, 20, 30, 60, 50, 40]\n"
          ]
        }
      ]
    },
    {
      "cell_type": "code",
      "source": [
        "#9).Write a Python program to convert a list of characters into a string.\n",
        "list1 = ['h','e','l','l','o']\n",
        "list = ''.join(list1)\n",
        "print(list)\n"
      ],
      "metadata": {
        "colab": {
          "base_uri": "https://localhost:8080/"
        },
        "id": "brSfIRWKuu8e",
        "outputId": "13528fc9-9b87-49f6-d092-640e40cf34c8"
      },
      "execution_count": null,
      "outputs": [
        {
          "output_type": "stream",
          "name": "stdout",
          "text": [
            "hello\n"
          ]
        }
      ]
    },
    {
      "cell_type": "code",
      "source": [
        "#10).Write a Python program to select an item randomly from a list\n",
        "\n",
        "import random\n",
        "mylist = [10,20,30,40,'karan','car']\n",
        "random.choice(mylist)"
      ],
      "metadata": {
        "colab": {
          "base_uri": "https://localhost:8080/"
        },
        "id": "U-Sl8y2Lv9IE",
        "outputId": "82e40321-f65b-4e38-fa2e-18adb15315a8"
      },
      "execution_count": null,
      "outputs": [
        {
          "output_type": "execute_result",
          "data": {
            "text/plain": [
              "20"
            ]
          },
          "metadata": {},
          "execution_count": 58
        }
      ]
    },
    {
      "cell_type": "code",
      "source": [
        "#11).Write a Python program to find the second smallest number in a list.\n",
        "\n",
        "list =[10,20,30,50,60,15,22,23,25]\n",
        "list.sort()\n",
        "print(list)\n",
        "print(\"My smallest number in a list is : \",list[1])\n"
      ],
      "metadata": {
        "id": "3aoiYsQ_ysZz",
        "colab": {
          "base_uri": "https://localhost:8080/"
        },
        "outputId": "7d46a040-cb8f-45d2-8417-d189d86da730"
      },
      "execution_count": null,
      "outputs": [
        {
          "output_type": "stream",
          "name": "stdout",
          "text": [
            "[10, 15, 20, 22, 23, 25, 30, 50, 60]\n",
            "My smallest number in a list is :  15\n"
          ]
        }
      ]
    },
    {
      "cell_type": "code",
      "source": [
        "#12).Write a Python program to get unique values from a list\n",
        "list = [10,20,30,10,5,4,8,9,9,5,4,8,10]\n",
        "unique_list = []\n",
        "for i in list:\n",
        "  if i not in unique_list:\n",
        "    unique_list.append(i)\n",
        "print(\"Unique list : \",unique_list)\n"
      ],
      "metadata": {
        "id": "v71MO-jiFzHS",
        "colab": {
          "base_uri": "https://localhost:8080/"
        },
        "outputId": "1234fe41-9d9c-4194-d646-3e85aeae903e"
      },
      "execution_count": null,
      "outputs": [
        {
          "output_type": "stream",
          "name": "stdout",
          "text": [
            "Unique list :  [10, 20, 30, 5, 4, 8, 9]\n"
          ]
        }
      ]
    },
    {
      "cell_type": "code",
      "source": [
        "#13). Write a Python program to check whether a list contains a sub list\n",
        "list = [10,2,5,60,50,10,2,30,40]\n",
        "\n",
        "l =input(\"Enter a list 1 number : \")\n",
        "l1 =input(\"Enter a list 2 number : \")\n",
        "if (all(i in l for i in l1)):\n",
        "  print(\"Sublist is present in list\")\n",
        "else:\n",
        "  print(\"Sublist is not present in list\")  \n"
      ],
      "metadata": {
        "colab": {
          "base_uri": "https://localhost:8080/"
        },
        "id": "q-_Bvcubx4_2",
        "outputId": "6f9e4703-9a97-4832-ebd4-3060b2eb380f"
      },
      "execution_count": null,
      "outputs": [
        {
          "output_type": "stream",
          "name": "stdout",
          "text": [
            "Enter a list 1 number : 10,20,30,50,60,90\n",
            "Enter a list 2 number : 20,60,\n",
            "Sublist is present in list\n"
          ]
        }
      ]
    },
    {
      "cell_type": "code",
      "source": [
        "#14).Write a Python program to split a list into different variables.\n",
        "list = ['Red','Blue','Yellow']\n",
        "print(\"List : \",list)\n",
        "\n",
        "a,b,c = list\n",
        "print(\"a\",a)\n",
        "print(\"b\",b)\n",
        "print(\"c\",c)\n"
      ],
      "metadata": {
        "colab": {
          "base_uri": "https://localhost:8080/"
        },
        "id": "VL3MY5fy1i58",
        "outputId": "6dd6145c-bc46-41a7-c344-c5f655520b5a"
      },
      "execution_count": null,
      "outputs": [
        {
          "output_type": "stream",
          "name": "stdout",
          "text": [
            "List :  ['Red', 'Blue', 'Yellow']\n",
            "a Red\n",
            "b Blue\n",
            "c Yellow\n"
          ]
        }
      ]
    },
    {
      "cell_type": "code",
      "source": [
        "#15). What is tuple? Difference between list and tuple\n",
        "#Ans. Tuples are used to store multiple items in a single variable.\n",
        "#     The key difference between the tuples and lists is that while the tuples are immutable objects the lists are mutable.\n",
        "#     This means that tuples cannot be changed while the lists can be modified. \n",
        "#     Tuples are more memory efficient than the lists."
      ],
      "metadata": {
        "id": "7D7Sro1c5iK0"
      },
      "execution_count": null,
      "outputs": []
    },
    {
      "cell_type": "code",
      "source": [
        "#16).Write a Python program to create a tuple with different data types.\n",
        "a = ['abc',10,True,50,3.5]\n",
        "b = tuple(a)\n",
        "print(b)"
      ],
      "metadata": {
        "colab": {
          "base_uri": "https://localhost:8080/"
        },
        "id": "a19E3rtM8r1k",
        "outputId": "9eb95e91-ec48-44d2-9038-792756e974b9"
      },
      "execution_count": null,
      "outputs": [
        {
          "output_type": "stream",
          "name": "stdout",
          "text": [
            "('abc', 10, True, 50, 3.5)\n"
          ]
        }
      ]
    },
    {
      "cell_type": "code",
      "source": [
        "#17).Write a Python program to create a tuple with numbers.\n",
        "a = (12,13,11,110,111)\n",
        "print(a)\n",
        "\n",
        "b = input(\"Enetr the number :\")\n",
        "\n",
        "print(b)"
      ],
      "metadata": {
        "colab": {
          "base_uri": "https://localhost:8080/"
        },
        "id": "SfjYXrvU9Stm",
        "outputId": "3f90ca83-0720-4a41-9418-1c75c4f7cf6b"
      },
      "execution_count": null,
      "outputs": [
        {
          "output_type": "stream",
          "name": "stdout",
          "text": [
            "(12, 13, 11, 110, 111)\n",
            "Enetr the number :10,15,16,10,80\n",
            "10,15,16,10,80\n"
          ]
        }
      ]
    },
    {
      "cell_type": "code",
      "source": [
        "#18).Write a Python program to convert a tuple to a string.\n",
        "\n",
        "tup = ('H','E','L','L','O')\n",
        "str = ''\n",
        "\n",
        "for i in tup:\n",
        "  str = str + i\n",
        "print(str)"
      ],
      "metadata": {
        "colab": {
          "base_uri": "https://localhost:8080/"
        },
        "id": "nQC4YwQt-KyP",
        "outputId": "a31fef15-db0f-4769-903d-b39dcfdc6d1c"
      },
      "execution_count": null,
      "outputs": [
        {
          "output_type": "stream",
          "name": "stdout",
          "text": [
            "HELLO\n"
          ]
        }
      ]
    },
    {
      "cell_type": "code",
      "source": [
        "#19).Write a Python program to check whether an element exists within a tuple.\n",
        "\n",
        "tup=(10,20,50,6,40,80,'apple','abc')\n",
        "print(10 in tup)\n",
        "\n"
      ],
      "metadata": {
        "colab": {
          "base_uri": "https://localhost:8080/"
        },
        "id": "nhx09dFt_Rpr",
        "outputId": "649747ac-9efd-4192-ff42-6e4074649721"
      },
      "execution_count": null,
      "outputs": [
        {
          "output_type": "stream",
          "name": "stdout",
          "text": [
            "True\n"
          ]
        }
      ]
    },
    {
      "cell_type": "code",
      "source": [
        "#20).Write a Python program to find the length of a tuple.\n",
        "\n",
        "tup = (10,50,40,60,20)\n",
        "\n",
        "length = len(tup)\n",
        "print(tup)\n",
        "print(\"Tuple length is : \",length)"
      ],
      "metadata": {
        "colab": {
          "base_uri": "https://localhost:8080/"
        },
        "id": "K1OON8nkANRS",
        "outputId": "2c798acd-65f0-4b68-e5ad-1c9bebe6b210"
      },
      "execution_count": null,
      "outputs": [
        {
          "output_type": "stream",
          "name": "stdout",
          "text": [
            "(10, 50, 40, 60, 20)\n",
            "Tuple length is :  5\n"
          ]
        }
      ]
    },
    {
      "cell_type": "code",
      "source": [
        "#21).Write a Python program to convert a list to a tuple.\n",
        "\n",
        "list = [10,2,5,6,70,9,70,800,50,40]\n",
        "print(\"List number of value: \",list)\n",
        "\n",
        "a = tuple(list)\n",
        "print(\"Convert list to tuple value:\",a)"
      ],
      "metadata": {
        "colab": {
          "base_uri": "https://localhost:8080/"
        },
        "id": "Zx5-IR_wAsdo",
        "outputId": "d2adb3d2-7ce1-4f0d-a0dc-ea2546dd5ec5"
      },
      "execution_count": null,
      "outputs": [
        {
          "output_type": "stream",
          "name": "stdout",
          "text": [
            "List number of value:  [10, 2, 5, 6, 70, 9, 70, 800, 50, 40]\n",
            "Convert list to tuple value: (10, 2, 5, 6, 70, 9, 70, 800, 50, 40)\n"
          ]
        }
      ]
    },
    {
      "cell_type": "code",
      "source": [
        "#22).Write a Python program to reverse a tuple.\n",
        "x = str(\"hello\")\n",
        "y = reversed(x)\n",
        "y1=tuple(y)\n",
        "print(y1) "
      ],
      "metadata": {
        "id": "xtrOaqCDBn7F",
        "colab": {
          "base_uri": "https://localhost:8080/"
        },
        "outputId": "ea7785c5-fde9-4445-f985-94f725cc8cd4"
      },
      "execution_count": null,
      "outputs": [
        {
          "output_type": "stream",
          "name": "stdout",
          "text": [
            "('o', 'l', 'l', 'e', 'h')\n"
          ]
        }
      ]
    },
    {
      "cell_type": "code",
      "source": [
        "#23.Write a Python program to replace last value of tuples in a list.\n",
        "\n",
        "a = [(10,20,30),(100,200,300),(1,2,3)]\n",
        "for l in a :\n",
        "  print([l[:-1] + (1000,)])\n"
      ],
      "metadata": {
        "colab": {
          "base_uri": "https://localhost:8080/"
        },
        "id": "TQUUliO-NyS7",
        "outputId": "d21b3119-fc24-4074-fd6d-bf577e1b874c"
      },
      "execution_count": null,
      "outputs": [
        {
          "output_type": "stream",
          "name": "stdout",
          "text": [
            "[(10, 20, 1000)]\n",
            "[(100, 200, 1000)]\n",
            "[(1, 2, 1000)]\n"
          ]
        }
      ]
    },
    {
      "cell_type": "code",
      "source": [
        "#24.Write a Python program to find the repeated items of a tuple.\n",
        "t = (1,2,5,6,9,9,9,98,8,5,5,5,2,2,2,1,10,11,10,12)\n",
        "count = t.count(9)\n",
        "print(\"Find the repeated items number :-\",count)"
      ],
      "metadata": {
        "colab": {
          "base_uri": "https://localhost:8080/"
        },
        "id": "KSe4GVR8T5j9",
        "outputId": "4a2a74c4-4ae6-4565-8487-65d3c11fd503"
      },
      "execution_count": null,
      "outputs": [
        {
          "output_type": "stream",
          "name": "stdout",
          "text": [
            "Find the repeated items number :- 3\n"
          ]
        }
      ]
    },
    {
      "cell_type": "code",
      "source": [
        "#25.Write a Python program to remove an empty tuple(s) from a list of tuples.\n",
        "a = [(), (),('a'),(\"a,b\"),(\"a,c,d,b\")]\n",
        "a = [l for l in a if l]\n",
        "print(a)\n"
      ],
      "metadata": {
        "colab": {
          "base_uri": "https://localhost:8080/"
        },
        "id": "n9xMxmraV0Uq",
        "outputId": "e9cfcbc8-ec33-4620-8fae-8d1b94969fab"
      },
      "execution_count": null,
      "outputs": [
        {
          "output_type": "stream",
          "name": "stdout",
          "text": [
            "['a', 'a,b', 'a,c,d,b']\n"
          ]
        }
      ]
    },
    {
      "cell_type": "code",
      "source": [
        "#26.Write a Python program to unzip a list of tuples into individual lists.\n",
        "a = [(10,20),(40,50),(70,80)]\n",
        "print(a)\n",
        "def unziplist(a):\n",
        "  for i in a:\n",
        "    c=list(i)\n",
        "    print(c)\n",
        "unziplist(a)"
      ],
      "metadata": {
        "colab": {
          "base_uri": "https://localhost:8080/"
        },
        "id": "jeFhpVFnH4W7",
        "outputId": "7ef6a15e-28ce-47fa-fdc5-301d39d71957"
      },
      "execution_count": null,
      "outputs": [
        {
          "output_type": "stream",
          "name": "stdout",
          "text": [
            "[(10, 20), (40, 50), (70, 80)]\n",
            "[10, 20]\n",
            "[40, 50]\n",
            "[70, 80]\n"
          ]
        }
      ]
    },
    {
      "cell_type": "code",
      "source": [
        "#27.Write a Python program to convert a list of tuples into a dictionary.\n",
        "list1=[(\"apple\",90),(\"banana\",60)]\n",
        "dict1={}\n",
        "for name , marks in list1:\n",
        "  dict1.setdefault(name,[]).append(marks)\n",
        "print(dict1)"
      ],
      "metadata": {
        "colab": {
          "base_uri": "https://localhost:8080/"
        },
        "id": "7hFc9_EWZBtS",
        "outputId": "dbbf558d-2a4b-4eef-aabe-a3c3888585c5"
      },
      "execution_count": null,
      "outputs": [
        {
          "output_type": "stream",
          "name": "stdout",
          "text": [
            "{'apple': [90], 'banana': [60]}\n"
          ]
        }
      ]
    },
    {
      "cell_type": "code",
      "source": [
        "#28. How will you create a dictionary using tuples in python?\n",
        "tuple=(('age',25),('boyage',22),('girlage',21))\n",
        "print(tuple)\n",
        "dec = dict((y, x)for x ,y in tuple)\n",
        "\n",
        "print(dec)"
      ],
      "metadata": {
        "colab": {
          "base_uri": "https://localhost:8080/"
        },
        "id": "uk5UOybtbQIQ",
        "outputId": "ac9c3b29-105a-4d6d-9283-0cf4ddad6d55"
      },
      "execution_count": null,
      "outputs": [
        {
          "output_type": "stream",
          "name": "stdout",
          "text": [
            "(('age', 25), ('boyage', 22), ('girlage', 21))\n",
            "{25: 'age', 22: 'boyage', 21: 'girlage'}\n"
          ]
        }
      ]
    },
    {
      "cell_type": "code",
      "source": [
        "#29).Write a Python script to sort (ascending and descending) a dictionary by value.\n",
        "di = {100:5,17:4,60:3,90:2}\n",
        "print(\"Original vlaue : \",di)\n",
        "sort = sorted(di.items())\n",
        "print(sort)"
      ],
      "metadata": {
        "colab": {
          "base_uri": "https://localhost:8080/"
        },
        "id": "CLn6cCBiwCYh",
        "outputId": "6e88207b-02b3-496f-9acd-09aba4c5fd92"
      },
      "execution_count": null,
      "outputs": [
        {
          "output_type": "stream",
          "name": "stdout",
          "text": [
            "Original vlaue :  {100: 5, 17: 4, 60: 3, 90: 2}\n",
            "[(17, 4), (60, 3), (90, 2), (100, 5)]\n"
          ]
        }
      ]
    },
    {
      "cell_type": "code",
      "source": [
        "#30).Write a Python script to concatenate following dictionaries to create a new one.\n",
        "a = {\"car\":600000}\n",
        "b = {\"bike\":75000}\n",
        "c = {\"activa\":63000}\n",
        "d = {}\n",
        "for i in (a,b,c):\n",
        "  i.update(d)\n",
        "  print(i)"
      ],
      "metadata": {
        "id": "kZClorgoy9dp",
        "colab": {
          "base_uri": "https://localhost:8080/"
        },
        "outputId": "98a13756-7c0c-4379-9bab-fafd5f698693"
      },
      "execution_count": null,
      "outputs": [
        {
          "output_type": "stream",
          "name": "stdout",
          "text": [
            "{'car': 600000}\n",
            "{'bike': 75000}\n",
            "{'activa': 63000}\n"
          ]
        }
      ]
    },
    {
      "cell_type": "code",
      "source": [
        "#31).Write a Python script to check if a given key already exists in a dictionary.\n",
        "a = {100:1,200:2,300:3}\n",
        "def key(b):\n",
        " if b in a:\n",
        "   print(\"Key is present in the dictionary\")\n",
        " else:\n",
        "   print(\"Key is not present in the dictionary\")\n",
        "key(200)\n",
        "key(1)"
      ],
      "metadata": {
        "colab": {
          "base_uri": "https://localhost:8080/"
        },
        "id": "-v0XvqeVYFXn",
        "outputId": "84b71513-8aa9-4997-977d-209478e868d5"
      },
      "execution_count": null,
      "outputs": [
        {
          "output_type": "stream",
          "name": "stdout",
          "text": [
            "Key is present in the dictionary\n",
            "Key is not present in the dictionary\n"
          ]
        }
      ]
    },
    {
      "cell_type": "code",
      "source": [
        "#32).How Do You Traverse Through A Dictionary Object In Python?\n",
        "class dictObj(object):\n",
        "     def __init__(self):\n",
        "         self.x = 'red'\n",
        "         self.y = 'Yellow'\n",
        "         self.z = 'Green'\n",
        "     def do_nothing(self):\n",
        "         pass\n",
        "test = dictObj()\n",
        "print(test.__dict__)"
      ],
      "metadata": {
        "colab": {
          "base_uri": "https://localhost:8080/"
        },
        "id": "yztBFZ8tZbLV",
        "outputId": "4f2a3bf0-5d65-4efc-a312-449e8c7f056b"
      },
      "execution_count": null,
      "outputs": [
        {
          "output_type": "stream",
          "name": "stdout",
          "text": [
            "{'x': 'red', 'y': 'Yellow', 'z': 'Green'}\n"
          ]
        }
      ]
    },
    {
      "cell_type": "code",
      "source": [
        "#33).How Do You Check The Presence Of A Key In A Dictionary?\n",
        "check = {'car':'varna','bike':'bullet','rahul':'car dirver'}\n",
        "user = (input(\"Enter key you want to check:-\"))\n",
        "if user in check:\n",
        "  print(\"the key is present\")\n",
        "else:\n",
        "  print(\"The key is not present\")\n"
      ],
      "metadata": {
        "colab": {
          "base_uri": "https://localhost:8080/"
        },
        "id": "_23dZpLKnvNH",
        "outputId": "f40d9e46-c258-4566-9f0f-daf8c8bf0f8e"
      },
      "execution_count": null,
      "outputs": [
        {
          "output_type": "stream",
          "name": "stdout",
          "text": [
            "Enter key you want to check:-sss\n",
            "The key is not present\n"
          ]
        }
      ]
    },
    {
      "cell_type": "code",
      "source": [
        "#34).Write a Python script to print a dictionary where the keys are numbers between 1 and 15.\n",
        "a = dict()\n",
        "for i in range(1,16):\n",
        "  a[i]=i**2\n",
        "print(a)"
      ],
      "metadata": {
        "colab": {
          "base_uri": "https://localhost:8080/"
        },
        "id": "RjosSw7zqtPs",
        "outputId": "b6a1b180-83bb-4b7a-c2fc-75bb9c20bf5f"
      },
      "execution_count": null,
      "outputs": [
        {
          "output_type": "stream",
          "name": "stdout",
          "text": [
            "{1: 1, 2: 4, 3: 9, 4: 16, 5: 25, 6: 36, 7: 49, 8: 64, 9: 81, 10: 100, 11: 121, 12: 144, 13: 169, 14: 196, 15: 225}\n"
          ]
        }
      ]
    },
    {
      "cell_type": "code",
      "source": [
        "#35).Write a Python program to check multiple keys exists in a dictionary\n",
        "di = {\n",
        "    'apple' : 'red',\n",
        "    'banana': 'yellow',\n",
        "    'kiwi'  : 'coffee'\n",
        "}\n",
        "print(di.keys()>={'apple','banana'})\n",
        "print(di.keys()>={'apple','red'})\n",
        "print(di.keys()>={'kiwi','yellow'})"
      ],
      "metadata": {
        "colab": {
          "base_uri": "https://localhost:8080/"
        },
        "id": "Si_zCb7ysZ7R",
        "outputId": "442317b4-ad74-4c9a-b9e4-21789afbbc6a"
      },
      "execution_count": null,
      "outputs": [
        {
          "output_type": "stream",
          "name": "stdout",
          "text": [
            "True\n",
            "False\n",
            "False\n"
          ]
        }
      ]
    },
    {
      "cell_type": "code",
      "source": [
        "#36).Write a Python script to merge two Python dictionaries.\n",
        "a = {'a':100,'b':200,'c':300}\n",
        "b = {'d':400,'e':500}\n",
        "c  = a.copy()\n",
        "c.update(b)\n",
        "print(c)"
      ],
      "metadata": {
        "colab": {
          "base_uri": "https://localhost:8080/"
        },
        "id": "XEzC1stqupBI",
        "outputId": "b65861aa-ae47-4fb0-cc36-729a05c62d6c"
      },
      "execution_count": null,
      "outputs": [
        {
          "output_type": "stream",
          "name": "stdout",
          "text": [
            "{'a': 100, 'b': 200, 'c': 300, 'd': 400, 'e': 500}\n"
          ]
        }
      ]
    },
    {
      "cell_type": "code",
      "source": [
        "#37).Write a Python program to map two lists into a dictionary.\n",
        "keys = ['red' , 'yellow','blue']\n",
        "values = ['#FF0000','#008000', '#0000FF']\n",
        "color = dict(zip(keys,values))\n",
        "print(color)"
      ],
      "metadata": {
        "colab": {
          "base_uri": "https://localhost:8080/"
        },
        "id": "ECxRzhzKxQ4w",
        "outputId": "2f9ce75f-2dc1-4a74-b881-814a88ce66b4"
      },
      "execution_count": null,
      "outputs": [
        {
          "output_type": "stream",
          "name": "stdout",
          "text": [
            "{'red': '#FF0000', 'yellow': '#008000', 'blue': '#0000FF'}\n"
          ]
        }
      ]
    },
    {
      "cell_type": "code",
      "source": [
        "#38).Write a Python program to combine two dictionary adding values for common keys.\n",
        "#    d1 = {'a': 100, 'b': 200, 'c':300} o d2 = {'a': 300, 'b': 200,’d’:400}\n",
        "#    Sample output: Counter ({'a': 400, 'b': 400,’d’: 400, 'c': 300}).\n",
        "\n",
        "d1 = {'a': 100, 'b': 200, 'c':300} \n",
        "d2 = {'a': 300, 'b': 200, 'd':400}\n",
        "for key in d1:\n",
        "  if key in d2:\n",
        "    d2[key] = d1[key]+d2[key]\n",
        "  else:\n",
        "    d2[key]=d1[key]\n",
        "print(d2)"
      ],
      "metadata": {
        "colab": {
          "base_uri": "https://localhost:8080/"
        },
        "id": "sktP-5IJyahw",
        "outputId": "803afc3a-8740-40ca-b2ae-5bf22073bec0"
      },
      "execution_count": null,
      "outputs": [
        {
          "output_type": "stream",
          "name": "stdout",
          "text": [
            "{'a': 400, 'b': 400, 'd': 400, 'c': 300}\n"
          ]
        }
      ]
    },
    {
      "cell_type": "code",
      "source": [
        "#39).Write a Python program to print all unique values in a dictionary.\n",
        "name = {1:'raj',2:'chintu',3:'lalo',4:'raj',5:'chintu'}\n",
        "print(name)\n",
        "print(set(name.values()))\n"
      ],
      "metadata": {
        "colab": {
          "base_uri": "https://localhost:8080/"
        },
        "id": "gDEY6MQKzSpm",
        "outputId": "27ef8820-2eba-47a1-8b0a-c94535982f25"
      },
      "execution_count": null,
      "outputs": [
        {
          "output_type": "stream",
          "name": "stdout",
          "text": [
            "{1: 'raj', 2: 'chintu', 3: 'lalo', 4: 'raj', 5: 'chintu'}\n",
            "{'raj', 'lalo', 'chintu'}\n"
          ]
        }
      ]
    },
    {
      "cell_type": "code",
      "source": [
        "#40).Why Do You Use the Zip () Method in Python?\n",
        "#Ans.Python's zip() function creates an iterator that will aggregate elements from two or more iterables. \n",
        "#    You can use the resulting iterator to quickly and consistently solve common programming problems, \n",
        "#    like creating dictionaries\n",
        "#Ex.\n",
        "s1 = {2, 3, 1}\n",
        "s2 = {'b', 'a', 'c'}\n",
        "list(zip(s1, s2))"
      ],
      "metadata": {
        "colab": {
          "base_uri": "https://localhost:8080/"
        },
        "id": "jXgfQNx32aZN",
        "outputId": "ccc6f2e9-636a-45ad-f749-9af063670ddb"
      },
      "execution_count": null,
      "outputs": [
        {
          "output_type": "execute_result",
          "data": {
            "text/plain": [
              "[(1, 'b'), (2, 'a'), (3, 'c')]"
            ]
          },
          "metadata": {},
          "execution_count": 107
        }
      ]
    },
    {
      "cell_type": "code",
      "source": [
        "#41).Write a Python program to create and display all combinations of letters, selecting each letter from a different key in a dictionary.\n",
        "#    Sample data: {'1': ['a','b'], '2': ['c','d']}\n",
        "#    Expected Output:\n",
        "0#                    ac ad bc bd\n",
        "sampledata = {'1': ['a','b'], '2': ['c','d']}\n",
        "l = list(sampledata.values())\n",
        "for i in l[1:]:\n",
        "  for j in l[0]:\n",
        "    for k in i:\n",
        "      print(j+k,end=\" \")\n",
        "\n"
      ],
      "metadata": {
        "colab": {
          "base_uri": "https://localhost:8080/"
        },
        "id": "3_USNK-W34Fx",
        "outputId": "52f95d35-6bbf-4bf7-c884-79f011c72a9a"
      },
      "execution_count": null,
      "outputs": [
        {
          "output_type": "stream",
          "name": "stdout",
          "text": [
            "ac ad bc bd "
          ]
        }
      ]
    },
    {
      "cell_type": "code",
      "source": [
        "#42).Write a Python program to find the highest 3 values in a dictionary.\n",
        "price = {'pent':1000,'shirt':600,'beg':1200,'shoes':1500}\n",
        "a = sorted(price, key=price.get,reverse=True)\n",
        "for i in range(3):\n",
        "  print(a[i])"
      ],
      "metadata": {
        "colab": {
          "base_uri": "https://localhost:8080/"
        },
        "id": "b5EvWjU9597p",
        "outputId": "7e8bdf91-6e70-494b-c6b7-5939cc745164"
      },
      "execution_count": null,
      "outputs": [
        {
          "output_type": "stream",
          "name": "stdout",
          "text": [
            "shoes\n",
            "beg\n",
            "pent\n"
          ]
        }
      ]
    },
    {
      "cell_type": "code",
      "source": [
        "#43).Write a Python program to combine values in python list of dictionaries.   \n",
        "#    Sample data:[{'item': 'item1', 'amount': 400},{'item': 'item2', 'amount':300}, o {'item': 'item1', 'amount': 750}]\n",
        "#    Expected Output:\n",
        "#    Counter ({'item1': 1150, 'item2': 300})\n",
        "from collections import Counter\n",
        "item_list = [{'item': 'item1', 'amount': 400}, {'item': 'item2', 'amount': 300}, {'item': 'item1', 'amount': 750}]\n",
        "result = Counter()\n",
        "for d in item_list:\n",
        "    result[d['item']] += d['amount']\n",
        "print(result)"
      ],
      "metadata": {
        "colab": {
          "base_uri": "https://localhost:8080/"
        },
        "id": "V8TLlTYU-Di2",
        "outputId": "b1eb6249-c74b-4f04-b4e5-072281d4eddf"
      },
      "execution_count": null,
      "outputs": [
        {
          "output_type": "stream",
          "name": "stdout",
          "text": [
            "Counter({'item1': 1150, 'item2': 300})\n"
          ]
        }
      ]
    },
    {
      "cell_type": "code",
      "source": [
        "#44).Write a Python program to create a dictionary from a string.\n",
        "#    Note: Track the count of the letters from the string.\n",
        "#    Sample string: 'w3resource'\n",
        "#    Expected output:\n",
        "#    {'3': 1,’s’: 1, 'r': 2, 'u': 1, 'w': 1, 'c': 1, 'e': 2, 'o': 1}\n",
        "str1 = 'w3resource' \n",
        "my_dict = {}\n",
        "for letter in str1:\n",
        "    my_dict[letter] = my_dict.get(letter, 0) + 1\n",
        "print(my_dict)"
      ],
      "metadata": {
        "colab": {
          "base_uri": "https://localhost:8080/"
        },
        "id": "xsAxmKcEGLIX",
        "outputId": "8f21c496-71e2-4d08-b7b4-bd83d31eb501"
      },
      "execution_count": null,
      "outputs": [
        {
          "output_type": "stream",
          "name": "stdout",
          "text": [
            "{'w': 1, '3': 1, 'r': 2, 'e': 2, 's': 1, 'o': 1, 'u': 1, 'c': 1}\n"
          ]
        }
      ]
    },
    {
      "cell_type": "code",
      "source": [
        "#45.Write a Python function to calculate the factorial of a number (a nonnegative integer)\n",
        "def factorial(n):\n",
        "  if n==0:\n",
        "    return 1\n",
        "  else:\n",
        "    return n * factorial(n-1)\n",
        "n = int(input(\"Input a number to compute the factiorial :\"))\n",
        "print(factorial(n))"
      ],
      "metadata": {
        "colab": {
          "base_uri": "https://localhost:8080/"
        },
        "id": "kTvCBZ1KHhC4",
        "outputId": "16af1b2b-7d0d-44c5-be31-7a6872d918a0"
      },
      "execution_count": null,
      "outputs": [
        {
          "output_type": "stream",
          "name": "stdout",
          "text": [
            "Input a number to compute the factiorial :5\n",
            "120\n"
          ]
        }
      ]
    },
    {
      "cell_type": "code",
      "source": [
        "#46).Write a Python function to check whether a number is in a given range.\n",
        "def test(n):\n",
        "  if n in range(2,10):\n",
        "    print(\"%s Is in the range\"%str(n))\n",
        "  else:\n",
        "    print(\"Is not in the range\")\n",
        "test(6)\n",
        "test(15)"
      ],
      "metadata": {
        "colab": {
          "base_uri": "https://localhost:8080/"
        },
        "id": "yMHYwx7QJ76C",
        "outputId": "8f147b8b-73c6-407b-f115-b6364cb80f54"
      },
      "execution_count": null,
      "outputs": [
        {
          "output_type": "stream",
          "name": "stdout",
          "text": [
            "6 Is in the range\n",
            "Is not in the range\n"
          ]
        }
      ]
    },
    {
      "cell_type": "code",
      "source": [
        "#47).Write a Python function to check whether a number is perfect or not.\n",
        "def perfect(n):\n",
        "  sum = 0\n",
        "  for i in range(1,n):\n",
        "    if n%i==0:\n",
        "      print(i)\n",
        "      sum=sum+i\n",
        "  return sum\n",
        "n = int(input(\"Enter the number:-\"))\n",
        "s = perfect(n)\n",
        "if n==s:\n",
        "  print(\"The number enter by you is perfect number\")\n",
        "else:\n",
        "  print(\"The number enter by you is not perfect number\")"
      ],
      "metadata": {
        "colab": {
          "base_uri": "https://localhost:8080/"
        },
        "id": "ggZhOwsUK82d",
        "outputId": "302a8913-bcd3-4c5a-cf11-83f878c94819"
      },
      "execution_count": null,
      "outputs": [
        {
          "output_type": "stream",
          "name": "stdout",
          "text": [
            "Enter the number:-9\n",
            "1\n",
            "3\n",
            "The number enter by you is not perfect number\n"
          ]
        }
      ]
    },
    {
      "cell_type": "code",
      "source": [
        "#48).Write a Python function that checks whether a passed string is palindrome or not.\n",
        "def isPalindrome(string):\n",
        "\tleft_pos = 0\n",
        "\tright_pos = len(string) - 1\n",
        "\t\n",
        "\twhile right_pos >= left_pos:\n",
        "\t\tif not string[left_pos] == string[right_pos]:\n",
        "\t\t\treturn False\n",
        "\t\tleft_pos += 1\n",
        "\t\tright_pos -= 1\n",
        "\treturn True\n",
        "print(isPalindrome('aza')) "
      ],
      "metadata": {
        "colab": {
          "base_uri": "https://localhost:8080/"
        },
        "id": "yy4GQcTPN3Lg",
        "outputId": "bea383c1-bcfa-4752-d2b0-69f3473695c7"
      },
      "execution_count": null,
      "outputs": [
        {
          "output_type": "stream",
          "name": "stdout",
          "text": [
            "True\n"
          ]
        }
      ]
    },
    {
      "cell_type": "code",
      "source": [
        "#49).How Many Basic Types Of Functions Are Available In Python?\n",
        "#Ans).  \n",
        "#      1)Built-in functions:Built-in functions are the functions that are already written or defined in python. We only need to remember the names of built-in functions and the parameters used in the functions. \n",
        "#        As these functions are already defined so we do not need to define these functions. Below are some built-in functions of Python.\n",
        "#EX:\n",
        "x = [1,2,3,4,5]\n",
        "print(len(x))    #it return length of list\n",
        "print(type(x))\n",
        "#      2)user-defined functions:The functions defined by a programmer to reduce the complexity of big problems and to use that function according to their need. \n",
        "#       This type of functions is called user-defined functions.\n",
        "#EX:\n",
        "x = 3\n",
        "y = 4\n",
        "def add():\n",
        "    print(x+y)\n",
        "    \n",
        "add()"
      ],
      "metadata": {
        "colab": {
          "base_uri": "https://localhost:8080/"
        },
        "id": "4BMHcBSdPAl3",
        "outputId": "d498a9f2-707c-49a5-d57e-fd26b08dec94"
      },
      "execution_count": null,
      "outputs": [
        {
          "output_type": "stream",
          "name": "stdout",
          "text": [
            "5\n",
            "<class 'list'>\n",
            "7\n"
          ]
        }
      ]
    },
    {
      "cell_type": "code",
      "source": [
        "#50).How can you pick a random item from a list or tuple?\n",
        "import random\n",
        "list = [10,20,30,40,50,60]\n",
        "tuple = (\"Raj\",\"chintu\",\"lalo\")\n",
        "print(random.choice(list))\n",
        "print(random.choice(tuple))\n"
      ],
      "metadata": {
        "colab": {
          "base_uri": "https://localhost:8080/"
        },
        "id": "HQRAqeksQEzF",
        "outputId": "c0851ed2-ef31-48d9-9545-6e10ebcff46c"
      },
      "execution_count": null,
      "outputs": [
        {
          "output_type": "stream",
          "name": "stdout",
          "text": [
            "40\n",
            "Raj\n"
          ]
        }
      ]
    },
    {
      "cell_type": "code",
      "source": [
        "#51:How can you pick a random item from a range?\n",
        "#Ans. Use a random. randrange() function to get a random integer number from the given exclusive range by specifying the increment. \n",
        "#     For example, random. randrange(0, 10, 2) will return any random number between 0 and 20 (like 0, 2, 4, 6, 8)\n",
        "import random\n",
        "\n",
        "for i in range(1,10):\n",
        "  y=random.randrange(9)\n",
        "  print(y,end=\" \")"
      ],
      "metadata": {
        "colab": {
          "base_uri": "https://localhost:8080/"
        },
        "id": "Vdq4EkEZS27P",
        "outputId": "0ef28a6d-b236-4bcf-8291-36d3c310a471"
      },
      "execution_count": null,
      "outputs": [
        {
          "output_type": "stream",
          "name": "stdout",
          "text": [
            "0 1 0 2 4 1 0 7 1 "
          ]
        }
      ]
    },
    {
      "cell_type": "code",
      "source": [
        "#52).How can you get a random number in python?\n",
        "#Ans.To generate random number in Python, randint() function is used. This function is defined in random module."
      ],
      "metadata": {
        "id": "-rRpzdwKUMV3"
      },
      "execution_count": null,
      "outputs": []
    },
    {
      "cell_type": "code",
      "source": [
        "#53).How will you set the starting value in generating random numbers?\n",
        "#Ans.The random number generator needs a number to start with (a seed value), to be able to generate a random number. \n",
        "#    By default the random number generator uses the current system time. Use the seed() method to customize the start number of the random number generator."
      ],
      "metadata": {
        "id": "f7KcKXZ4ZVqB"
      },
      "execution_count": null,
      "outputs": []
    },
    {
      "cell_type": "code",
      "source": [
        "#54).How will you randomizes the items of a list in place?\n",
        "import random\n",
        "list = [10,20,30,40,50,60,70]\n",
        "random.choice(list)\n",
        "\n"
      ],
      "metadata": {
        "colab": {
          "base_uri": "https://localhost:8080/"
        },
        "id": "mfHYNR5EaaB1",
        "outputId": "343508dc-bc7f-4b26-f6db-18382a9d831e"
      },
      "execution_count": null,
      "outputs": [
        {
          "output_type": "execute_result",
          "data": {
            "text/plain": [
              "30"
            ]
          },
          "metadata": {},
          "execution_count": 197
        }
      ]
    },
    {
      "cell_type": "code",
      "source": [
        "#55).Write a Python program to read a random line from a file.\n",
        "import random\n",
        "def readrandomline():\n",
        "  f=open(\"p.txt\",\"r\")\n",
        "  lines=f.randomlines()\n",
        "  length=len(lines)\n",
        "  r1=random.randint(0,length-1)\n",
        "  print(lines[r1])\n",
        "  f.close()\n",
        "readrandomline()"
      ],
      "metadata": {
        "colab": {
          "base_uri": "https://localhost:8080/",
          "height": 322
        },
        "id": "tFbTHcRXa5yW",
        "outputId": "8f278ae7-d4e7-49c1-d278-f73669f9a991"
      },
      "execution_count": null,
      "outputs": [
        {
          "output_type": "error",
          "ename": "FileNotFoundError",
          "evalue": "ignored",
          "traceback": [
            "\u001b[0;31m---------------------------------------------------------------------------\u001b[0m",
            "\u001b[0;31mFileNotFoundError\u001b[0m                         Traceback (most recent call last)",
            "\u001b[0;32m<ipython-input-2-585f7129848e>\u001b[0m in \u001b[0;36m<module>\u001b[0;34m\u001b[0m\n\u001b[1;32m      8\u001b[0m   \u001b[0mprint\u001b[0m\u001b[0;34m(\u001b[0m\u001b[0mlines\u001b[0m\u001b[0;34m[\u001b[0m\u001b[0mr1\u001b[0m\u001b[0;34m]\u001b[0m\u001b[0;34m)\u001b[0m\u001b[0;34m\u001b[0m\u001b[0;34m\u001b[0m\u001b[0m\n\u001b[1;32m      9\u001b[0m   \u001b[0mf\u001b[0m\u001b[0;34m.\u001b[0m\u001b[0mclose\u001b[0m\u001b[0;34m(\u001b[0m\u001b[0;34m)\u001b[0m\u001b[0;34m\u001b[0m\u001b[0;34m\u001b[0m\u001b[0m\n\u001b[0;32m---> 10\u001b[0;31m \u001b[0mreadrandomline\u001b[0m\u001b[0;34m(\u001b[0m\u001b[0;34m)\u001b[0m\u001b[0;34m\u001b[0m\u001b[0;34m\u001b[0m\u001b[0m\n\u001b[0m",
            "\u001b[0;32m<ipython-input-2-585f7129848e>\u001b[0m in \u001b[0;36mreadrandomline\u001b[0;34m()\u001b[0m\n\u001b[1;32m      2\u001b[0m \u001b[0;32mimport\u001b[0m \u001b[0mrandom\u001b[0m\u001b[0;34m\u001b[0m\u001b[0;34m\u001b[0m\u001b[0m\n\u001b[1;32m      3\u001b[0m \u001b[0;32mdef\u001b[0m \u001b[0mreadrandomline\u001b[0m\u001b[0;34m(\u001b[0m\u001b[0;34m)\u001b[0m\u001b[0;34m:\u001b[0m\u001b[0;34m\u001b[0m\u001b[0;34m\u001b[0m\u001b[0m\n\u001b[0;32m----> 4\u001b[0;31m   \u001b[0mf\u001b[0m\u001b[0;34m=\u001b[0m\u001b[0mopen\u001b[0m\u001b[0;34m(\u001b[0m\u001b[0;34m\"p.txt\"\u001b[0m\u001b[0;34m,\u001b[0m\u001b[0;34m\"r\"\u001b[0m\u001b[0;34m)\u001b[0m\u001b[0;34m\u001b[0m\u001b[0;34m\u001b[0m\u001b[0m\n\u001b[0m\u001b[1;32m      5\u001b[0m   \u001b[0mlines\u001b[0m\u001b[0;34m=\u001b[0m\u001b[0mf\u001b[0m\u001b[0;34m.\u001b[0m\u001b[0mrandomlines\u001b[0m\u001b[0;34m(\u001b[0m\u001b[0;34m)\u001b[0m\u001b[0;34m\u001b[0m\u001b[0;34m\u001b[0m\u001b[0m\n\u001b[1;32m      6\u001b[0m   \u001b[0mlength\u001b[0m\u001b[0;34m=\u001b[0m\u001b[0mlen\u001b[0m\u001b[0;34m(\u001b[0m\u001b[0mlines\u001b[0m\u001b[0;34m)\u001b[0m\u001b[0;34m\u001b[0m\u001b[0;34m\u001b[0m\u001b[0m\n",
            "\u001b[0;31mFileNotFoundError\u001b[0m: [Errno 2] No such file or directory: 'p.txt'"
          ]
        }
      ]
    },
    {
      "cell_type": "code",
      "source": [
        "#56).Write a Python program to convert degree to radian.\n",
        "pi = 22/7\n",
        "degree = float(input(\"provide input deggree:\"))\n",
        "radian = degree*(pi/180)\n",
        "print(\"the value of radian\",radian)"
      ],
      "metadata": {
        "colab": {
          "base_uri": "https://localhost:8080/"
        },
        "id": "EeZTOqW-dMuB",
        "outputId": "0d57f082-e2d9-4d85-9763-49963174e356"
      },
      "execution_count": null,
      "outputs": [
        {
          "output_type": "stream",
          "name": "stdout",
          "text": [
            "provide input deggree:90\n",
            "the value of radian 1.5714285714285714\n"
          ]
        }
      ]
    },
    {
      "cell_type": "code",
      "source": [
        "#57).Write a Python program to calculate the area of a trapezoid.\n",
        "h = float(input(\"Height of trapezoid: \"))\n",
        "b1= float(input(\"Base of the first value: \"))\n",
        "b2= float(input(\"Base of the second value: \"))\n",
        "area = ((b1+b1)/2)*h\n",
        "print(\"Area of teapezoid is\" , area)"
      ],
      "metadata": {
        "colab": {
          "base_uri": "https://localhost:8080/"
        },
        "id": "uvKYX34HecKf",
        "outputId": "80259feb-905a-432d-8a35-361e13369b53"
      },
      "execution_count": null,
      "outputs": [
        {
          "output_type": "stream",
          "name": "stdout",
          "text": [
            "Height of trapezoid:55\n",
            "Base of the first value:23\n",
            "Base of the second value:29\n",
            "Area of teapezoid is 1265.0\n"
          ]
        }
      ]
    },
    {
      "cell_type": "code",
      "source": [
        "#58).Write a Python program to calculate the area of a parallelogram.\n",
        "l = float(input(\"Enter length of parallelogram: \"))\n",
        "w= float(input(\"Enter width of parallelogram: \"))\n",
        "h= float(input(\"Enter height of parallelogram: \"))\n",
        "area = l*h\n",
        "perimeter = 2*l+2*w\n",
        "print(\"Area of parallelogram is: \",area)\n",
        "print(\"Area of parallelogram is: \",perimeter)"
      ],
      "metadata": {
        "colab": {
          "base_uri": "https://localhost:8080/"
        },
        "id": "yZW4FiLBgfqS",
        "outputId": "9df6271f-891b-4fd0-8c8d-3e8ba2d9bcae"
      },
      "execution_count": null,
      "outputs": [
        {
          "output_type": "stream",
          "name": "stdout",
          "text": [
            "Enter length of parallelogram: 9\n",
            "Enter width of parallelogram: 3\n",
            "Enter height of parallelogram: 4\n",
            "Area of parallelogram is:  36.0\n",
            "Area of parallelogram is:  24.0\n"
          ]
        }
      ]
    },
    {
      "cell_type": "code",
      "source": [
        "#59).Write a Python program to calculate surface volume and area of a cylinder.\n",
        "pi = 22/7\n",
        "\n",
        "r= float(input(\"Enter redius of cylinder: \"))\n",
        "h= float(input(\"Enter height of cylinder \"))\n",
        "volume =pi*r*r*h\n",
        "surface = ((2*pi*r)*h)+((pi*r**2)*2)\n",
        "print(\"Voluem is :\",volume)\n",
        "print(\"Surface is : \",surface)"
      ],
      "metadata": {
        "colab": {
          "base_uri": "https://localhost:8080/"
        },
        "id": "uE711-HygIqs",
        "outputId": "8f28fe41-8bb4-4196-e14b-5683e34a04ea"
      },
      "execution_count": null,
      "outputs": [
        {
          "output_type": "stream",
          "name": "stdout",
          "text": [
            "Enter redius of cylinder: 22\n",
            "Enter height of cylinder 10\n",
            "Voluem is : 15211.42857142857\n",
            "Surface is :  4425.142857142857\n"
          ]
        }
      ]
    },
    {
      "cell_type": "code",
      "source": [
        "#60).Write a Python program to returns sum of all divisors of a number.\n",
        "a=int(input(\"Please enter a number : \"))\n",
        "def divisors(a):\n",
        "  fa=[]\n",
        "  for i in range(1,a+1):\n",
        "    if a%i==0:\n",
        "      fa.append(i)\n",
        "  print(fa)\n",
        "  print(f\"The sum of divisors of {a} is \",sum(fa))\n",
        "divisors(a)"
      ],
      "metadata": {
        "id": "54mlBq6_kcg1",
        "colab": {
          "base_uri": "https://localhost:8080/"
        },
        "outputId": "7f5d67f2-3702-42a2-8f12-3a94c3869419"
      },
      "execution_count": null,
      "outputs": [
        {
          "output_type": "stream",
          "name": "stdout",
          "text": [
            "Please enter a number : 50\n",
            "[1, 2, 5, 10, 25, 50]\n",
            "The sum of divisors of 50 is  93\n"
          ]
        }
      ]
    },
    {
      "cell_type": "code",
      "source": [
        "#61).Write a Python program to find the maximum and minimum numbers from the specified decimal numbers.\n",
        "data = [2.45, 2.69, 2.45, 3.45, 2.00, 0.04, 7.25]\n",
        "print(\"Maximum: \", max(data))\n",
        "print(\"Minimum: \", min(data))"
      ],
      "metadata": {
        "colab": {
          "base_uri": "https://localhost:8080/"
        },
        "id": "8kWvy-oGlSco",
        "outputId": "40afefc1-3463-46f2-85d5-197ad979114a"
      },
      "execution_count": null,
      "outputs": [
        {
          "output_type": "stream",
          "name": "stdout",
          "text": [
            "Maximum:  7.25\n",
            "Minimum:  0.04\n"
          ]
        }
      ]
    },
    {
      "cell_type": "code",
      "source": [],
      "metadata": {
        "id": "E_yDci3An8Jk"
      },
      "execution_count": null,
      "outputs": []
    }
  ]
}