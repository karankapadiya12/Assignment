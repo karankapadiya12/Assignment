{
  "nbformat": 4,
  "nbformat_minor": 0,
  "metadata": {
    "colab": {
      "provenance": [],
      "collapsed_sections": [],
      "authorship_tag": "ABX9TyPcvUsy30Rl0vxx2xnaZMp6",
      "include_colab_link": true
    },
    "kernelspec": {
      "name": "python3",
      "display_name": "Python 3"
    },
    "language_info": {
      "name": "python"
    }
  },
  "cells": [
    {
      "cell_type": "markdown",
      "metadata": {
        "id": "view-in-github",
        "colab_type": "text"
      },
      "source": [
        "<a href=\"https://colab.research.google.com/github/karankapadiya12/Assignment/blob/main/Assignment1_py.ipynb\" target=\"_parent\"><img src=\"https://colab.research.google.com/assets/colab-badge.svg\" alt=\"Open In Colab\"/></a>"
      ]
    },
    {
      "cell_type": "code",
      "execution_count": null,
      "metadata": {
        "id": "eKWEKrc6nSFV"
      },
      "outputs": [],
      "source": [
        "#1)\tWhat is Software? \n",
        "\"\"\"Ans.  Software is a set of instructions, data, or programs used to           \n",
        "          operate a computer and execute specific tasks. In simpler      \n",
        "          terms, software tells a computer how to function. It’s a   \n",
        "          generic term used to refer to applications, scripts, and  \n",
        "          programs that run on devices such as PCs, mobile phones, \n",
        "          tablets, and other smart devices. Software contrasts with \n",
        "          hardware, which is the physical aspects of a computer that \n",
        "          perform the work.\"\"\"\n",
        "\n",
        "#2)\tWhat are the types of Applications? \n",
        "\"\"\"Ans.software is a set of instruction,data programs used to operate a computer and execute  specific task .in simpler terms,software tells a computer\n",
        "       Definition:collection of instruction  that enables a user to interact with the computer  \n",
        "\t     There is a three types of software :system software ,programing software,application software.\n",
        "\t     They are provides the instruction\n",
        "       To the hardware\n",
        "\t     Software is computer codes that tells a computer how to perform a specific  task\n",
        "       (3)\tTypes of software ?\n",
        "       =>there are a three types of software\n",
        "       (1)system software \n",
        "       (2)application software\n",
        "       (3)programing software\n",
        " \"\"\"\n",
        "\n",
        "#3)\t What is programing?\n",
        "\"\"\"Ans. Programming is the implementation of logic to facilitate\n",
        "     Specified computing operations and functionality. \n",
        "     It occurs in one or more languages, which differ by\n",
        "     Application, domain and programming model.\"\"\"\n",
        "\n",
        "#4)\tWhat is Python? \n",
        "\"\"\"Ans. Python is an interpreted, object–oriented, high – level              \n",
        "        programming language \n",
        "     \n",
        "        guido van rossum is a dutch programmer best know as the creator of the python programming language\n",
        "\n",
        "        Its design philosopy emphasize code readability with the use of significant indetation.\n",
        "        Python is dynamically –typed and garbage-collected\n",
        "        website and games can be created With the help of python.\n",
        "        => Python language is very usefull to \n",
        "           A website and any games.\n",
        "\"\"\"\n"
      ]
    }
  ]
}